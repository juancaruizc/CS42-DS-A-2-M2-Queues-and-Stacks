{
  "nbformat": 4,
  "nbformat_minor": 0,
  "metadata": {
    "colab": {
      "name": "CS42: DS & A 2: M2: Queues and Stacks",
      "provenance": [],
      "include_colab_link": true
    },
    "kernelspec": {
      "name": "python3",
      "display_name": "Python 3"
    },
    "language_info": {
      "name": "python"
    }
  },
  "cells": [
    {
      "cell_type": "markdown",
      "metadata": {
        "id": "view-in-github",
        "colab_type": "text"
      },
      "source": [
        "<a href=\"https://colab.research.google.com/github/juancaruizc/CS42-DS-A-2-M2-Queues-and-Stacks/blob/main/CS42_DS_%26_A_2_M2_Queues_and_Stacks.ipynb\" target=\"_parent\"><img src=\"https://colab.research.google.com/assets/colab-badge.svg\" alt=\"Open In Colab\"/></a>"
      ]
    },
    {
      "cell_type": "markdown",
      "metadata": {
        "id": "nTOJ6U26_sWx"
      },
      "source": [
        "# Stacks and Queues\n",
        "\n",
        "**Attendance Code: 5094**\n",
        "\n",
        "Applications of Linked Lists\n",
        "\n",
        "* What are stacks and queues? LIFO/FIFO\n",
        "* Implementation of a stack with a List (array)\n",
        "* Implementation of a stack with a Linked List\n",
        "* Implementation of a queue with a Linked List\n",
        "* Understand and Plan: Making a Queue with two Stacks\n",
        "* Time permitting: Max Stack--tracking the maximum value in a stack"
      ]
    },
    {
      "cell_type": "markdown",
      "metadata": {
        "id": "cICq47vIC3ZI"
      },
      "source": [
        "# Stacks\n",
        "\n",
        "Data structure that controls how data is retrieved and stored.\n",
        "\n",
        "* LIFO--Last-in, First-out\n",
        "\n",
        "Main operations we have on a stack\n",
        "\n",
        "* PUSH -- store an item\n",
        "* POP -- retrieve an item\n",
        "* PEEK -- look at the top of the stack and see what's there\n",
        "* Bonus: IS_EMPTY -- true if there's nothing in the stack\n",
        "\n",
        "```\n",
        "PUSH 12\n",
        "PUSH 24\n",
        "PUSH 99\n",
        "POP (returns 99)\n",
        "PUSH 36\n",
        "POP (returns 36)\n",
        "POP (returns 24)\n",
        "PEEK (returns 12, but doesn't POP it)\n",
        "\n",
        "Top of stack\n",
        "vvvvvv\n",
        "12\n",
        "^^^^^^\n",
        "Bottom of stack\n",
        "```\n"
      ]
    },
    {
      "cell_type": "code",
      "metadata": {
        "colab": {
          "base_uri": "https://localhost:8080/"
        },
        "id": "aZhFdrqm_kn1",
        "outputId": "d2f0cab4-8a87-4064-86fe-6d0ef55228c2"
      },
      "source": [
        "# Array version of the stack\n",
        "\n",
        "class Stack:\n",
        "    def __init__(self):\n",
        "        self.stack = []\n",
        "\n",
        "    def push(self, value):\n",
        "        self.stack.append(value)  # O(1)\n",
        "\n",
        "    def pop(self):\n",
        "        return self.stack.pop()  # O(1)\n",
        "\n",
        "    def peek(self):\n",
        "        return self.stack[-1]  # O(1)\n",
        "\n",
        "    def is_empty(self):\n",
        "        return self.stack == []  # O(1)\n",
        "\n",
        "s = Stack()\n",
        "\n",
        "s.push(12)\n",
        "s.push(24)\n",
        "s.push(99)\n",
        "print(s.pop())  # 99\n",
        "s.push(36)\n",
        "print(s.pop())  # 36\n",
        "print(s.pop())  # 24\n",
        "print(s.peek()) # 12"
      ],
      "execution_count": null,
      "outputs": [
        {
          "output_type": "stream",
          "text": [
            "99\n",
            "36\n",
            "24\n",
            "12\n"
          ],
          "name": "stdout"
        }
      ]
    },
    {
      "cell_type": "code",
      "metadata": {
        "colab": {
          "base_uri": "https://localhost:8080/"
        },
        "id": "l4YnxXLlI4j8",
        "outputId": "576c7551-c960-450d-db47-b31db6d1067d"
      },
      "source": [
        "# Stack, linked-list version\n",
        "# Top of stack is the head of the list\n",
        "\n",
        "class ListNode:\n",
        "    def __init__(self, value):\n",
        "        self.value = value\n",
        "        self.next = None\n",
        "\n",
        "    def __repr__(self):\n",
        "        # Returns a string that could be Python code to construct the object\n",
        "        return f\"ListNode({repr(self.value)})\"\n",
        "\n",
        "class Stack:\n",
        "    def __init__(self):\n",
        "        self.stack = None   # head of the list/top of the stack\n",
        "\n",
        "    def __str__(self):\n",
        "        \"\"\"\n",
        "        Print the linked list\n",
        "\n",
        "        This function will be called if print() is called on this\n",
        "        LinkedList object. It returns the string to print.\n",
        "\n",
        "        Prints a list like this:\n",
        "\n",
        "        0 -> 1 -> 2 -> 3\n",
        "        \"\"\"\n",
        "\n",
        "        # Make another reference to the head so that we don't\n",
        "        # change self.head in the while loop\n",
        "        cur = self.stack\n",
        "\n",
        "        result = \"\"\n",
        "\n",
        "        # Walk the list, building up the result string\n",
        "        while cur is not None:\n",
        "            result += f\"{str(cur.value)}{'' if cur.next is None else ' -> '}\"\n",
        "            cur = cur.next\n",
        "\n",
        "        return result\n",
        "\n",
        "    def push(self, n):  # O(1)\n",
        "        # Insert at head of list\n",
        "        n.next = self.stack\n",
        "        self.stack = n\n",
        "\n",
        "    def pop(self):  # O(1)\n",
        "        n = self.stack\n",
        "        self.stack = self.stack.next\n",
        "        n.next = None\n",
        "\n",
        "        return n\n",
        "\n",
        "    def peek(self):  # O(1)\n",
        "        # Return the node at the top of the stack, but don't pop it\n",
        "        return self.stack\n",
        "\n",
        "    def is_empty(self):  # O(1)\n",
        "        return self.stack == None\n",
        "\n",
        "s = Stack()\n",
        "\n",
        "s.push(ListNode(12))\n",
        "s.push(ListNode(24))\n",
        "s.push(ListNode(99))\n",
        "\n",
        "print(s)\n",
        "\n",
        "print(s.pop())  # 99\n",
        "\n",
        "s.push(ListNode(36))\n",
        "\n",
        "print(s.pop())  # 36\n",
        "print(s.pop())  # 24\n",
        "\n",
        "print(s.peek()) # 12"
      ],
      "execution_count": null,
      "outputs": [
        {
          "output_type": "stream",
          "text": [
            "99 -> 24 -> 12\n",
            "ListNode(99)\n",
            "ListNode(36)\n",
            "ListNode(24)\n",
            "ListNode(12)\n"
          ],
          "name": "stdout"
        }
      ]
    },
    {
      "cell_type": "markdown",
      "metadata": {
        "id": "8zlA2IIxS93g"
      },
      "source": [
        "# Queues\n",
        "\n",
        "FIFO -- First-in, First-out\n",
        "\n",
        "Operations\n",
        "\n",
        "* ENQUEUE: add something to the end of the queue\n",
        "* DEQUEUE: remove something from the front of the queue\n",
        "* Bonus: IS_EMPTY\n",
        "\n"
      ]
    },
    {
      "cell_type": "code",
      "metadata": {
        "colab": {
          "base_uri": "https://localhost:8080/"
        },
        "id": "Hx-Fp2FfVsOV",
        "outputId": "4ab409fb-dcff-4a09-d12f-1054773b2838"
      },
      "source": [
        "class Queue:\n",
        "\n",
        "    def __init__(self):\n",
        "        self.head = None\n",
        "        self.tail = None\n",
        "\n",
        "    def __str__(self):\n",
        "        \"\"\"\n",
        "        Print the linked list\n",
        "\n",
        "        This function will be called if print() is called on this\n",
        "        LinkedList object. It returns the string to print.\n",
        "\n",
        "        Prints a list like this:\n",
        "\n",
        "        0 -> 1 -> 2 -> 3\n",
        "        \"\"\"\n",
        "\n",
        "        # Make another reference to the head so that we don't\n",
        "        # change self.head in the while loop\n",
        "        cur = self.head\n",
        "\n",
        "        result = \"\"\n",
        "\n",
        "        # Walk the list, building up the result string\n",
        "        while cur is not None:\n",
        "            result += f\"{str(cur.value)}{'' if cur.next is None else ' -> '}\"\n",
        "            cur = cur.next\n",
        "\n",
        "        return result\n",
        "\n",
        "    def enqueue(self, n):\n",
        "        if self.is_empty():\n",
        "            self.head = n\n",
        "            self.tail = n\n",
        "            return\n",
        "\n",
        "        # Assume from here on out that the list isn't empty\n",
        "        self.tail.next = n\n",
        "        self.tail = n\n",
        "\n",
        "    def dequeue(self):\n",
        "        n = self.head\n",
        "        self.head = self.head.next\n",
        "        n.next = None\n",
        "\n",
        "        if self.head is None:  # List is empty\n",
        "            self.tail = None\n",
        "\n",
        "        return n\n",
        "\n",
        "    def is_empty(self):\n",
        "        return self.head is None\n",
        "\n",
        "q = Queue()\n",
        "\n",
        "q.enqueue(ListNode(12))\n",
        "q.enqueue(ListNode(24))\n",
        "q.enqueue(ListNode(99))\n",
        "\n",
        "print(q)\n",
        "\n",
        "print(q.dequeue())\n",
        "print(q.dequeue())\n",
        "print(q.dequeue())\n",
        "\n",
        "print(q)\n",
        "print(q.head, q.tail)"
      ],
      "execution_count": null,
      "outputs": [
        {
          "output_type": "stream",
          "text": [
            "12 -> 24 -> 99\n",
            "ListNode(12)\n",
            "ListNode(24)\n",
            "ListNode(99)\n",
            "\n",
            "None None\n"
          ],
          "name": "stdout"
        }
      ]
    },
    {
      "cell_type": "code",
      "metadata": {
        "id": "S-xiQgETZnqV"
      },
      "source": [
        "# Bonus info:\n",
        "\n",
        "class DoublyLinkedListNode:\n",
        "    def __init__(self, value):\n",
        "        self.value = value\n",
        "        self.prev = self.next = None\n",
        "\n",
        "class DoublyLinkedList:\n",
        "    def __init__(self):\n",
        "        self.head = self.tail = None\n",
        "\n"
      ],
      "execution_count": null,
      "outputs": []
    },
    {
      "cell_type": "markdown",
      "metadata": {
        "id": "r6nC82EQaIQR"
      },
      "source": [
        "# Queue from Stacks\n",
        "\n",
        "If you have two stacks, how can you implement queue operations?\n",
        "\n"
      ]
    },
    {
      "cell_type": "code",
      "metadata": {
        "colab": {
          "base_uri": "https://localhost:8080/"
        },
        "id": "j5wYj_LdaTje",
        "outputId": "a2c02c4f-906c-4535-8cdc-e1546fe56608"
      },
      "source": [
        "# No time complexity constraints--doesn't need to be O(1)\n",
        "class QueueFromStacks:\n",
        "\n",
        "    def __init__(self):\n",
        "        self.stack1 = Stack()\n",
        "        self.stack2 = Stack()\n",
        "\n",
        "    def enqueue(self, value):\n",
        "        self.stack1.push(value)\n",
        "\n",
        "    def dequeue(self):\n",
        "        pass   # we can push and pop, loop\n",
        "\n",
        "q = QueueFromStacks()\n",
        "\n",
        "q.enqueue(ListNode(12))\n",
        "q.enqueue(ListNode(24))\n",
        "\n",
        "print(q.dequeue())  # 12\n",
        "#print(q.dequeue())  # 24\n",
        "\n",
        "print(q.stack1)"
      ],
      "execution_count": null,
      "outputs": [
        {
          "output_type": "stream",
          "text": [
            "None\n",
            "None\n",
            "24 -> 12\n"
          ],
          "name": "stdout"
        }
      ]
    },
    {
      "cell_type": "markdown",
      "metadata": {
        "id": "7XGRqOesdMyl"
      },
      "source": [
        "# Max Stack\n",
        "\n",
        "Bonus info:\n",
        "\n",
        "* Usual stack operations in O(1) time\n",
        "* GET_MAX: returns the largest value on the stack in O(1) time\n",
        "\n"
      ]
    },
    {
      "cell_type": "code",
      "metadata": {
        "colab": {
          "base_uri": "https://localhost:8080/"
        },
        "id": "yO1P2RiSdzaf",
        "outputId": "ecee332e-22c1-4301-f851-e68dea8f3720"
      },
      "source": [
        "class MaxStack:\n",
        "    def __init__(self):\n",
        "        self.stack = []\n",
        "        self.max_stack = []\n",
        "\n",
        "    def push(self, value):\n",
        "        self.stack.append(value)\n",
        "\n",
        "        max_value = self.get_max()\n",
        "\n",
        "        if max_value is None or value >= max_value:\n",
        "            self.max_stack.append(value)\n",
        "\n",
        "    def pop(self):\n",
        "        value = self.stack.pop()\n",
        "        if self.max_peek() == value:\n",
        "            self.max_stack.pop()\n",
        "\n",
        "        return value\n",
        "\n",
        "    def max_peek(self):\n",
        "        return self.max_stack[-1]\n",
        "\n",
        "    def get_max(self):\n",
        "        if self.max_stack == []:\n",
        "            return None\n",
        "        return self.max_peek()  # peek at top to see what's the max so far\n",
        "\n",
        "s = MaxStack()\n",
        "\n",
        "s.push(11)\n",
        "s.push(12)\n",
        "s.push(12)\n",
        "\n",
        "print(s.get_max())\n",
        "s.pop()\n",
        "print(s.get_max())\n",
        "s.pop()\n",
        "print(s.get_max())"
      ],
      "execution_count": null,
      "outputs": [
        {
          "output_type": "stream",
          "text": [
            "12\n",
            "12\n",
            "11\n"
          ],
          "name": "stdout"
        }
      ]
    }
  ]
}